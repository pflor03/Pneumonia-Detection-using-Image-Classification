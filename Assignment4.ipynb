{
  "nbformat": 4,
  "nbformat_minor": 0,
  "metadata": {
    "colab": {
      "name": "Assignment4.ipynb",
      "provenance": [],
      "collapsed_sections": [],
      "authorship_tag": "ABX9TyNS2NALm/S1Ro8YRds5A2sm",
      "include_colab_link": true
    },
    "kernelspec": {
      "name": "python3",
      "display_name": "Python 3"
    },
    "language_info": {
      "name": "python"
    }
  },
  "cells": [
    {
      "cell_type": "markdown",
      "metadata": {
        "id": "view-in-github",
        "colab_type": "text"
      },
      "source": [
        "<a href=\"https://colab.research.google.com/github/pflor03/Pneumonia-Detection-using-Image-Classification/blob/main/Assignment4.ipynb\" target=\"_parent\"><img src=\"https://colab.research.google.com/assets/colab-badge.svg\" alt=\"Open In Colab\"/></a>"
      ]
    },
    {
      "cell_type": "markdown",
      "source": [
        "**Assignment 4**"
      ],
      "metadata": {
        "id": "1xTdHdH3CzlL"
      }
    },
    {
      "cell_type": "markdown",
      "source": [
        "Install Spark "
      ],
      "metadata": {
        "id": "dmtKde-CDsGl"
      }
    },
    {
      "cell_type": "code",
      "source": [
        "# Update environment (if needed)\n",
        "!sudo apt update\n",
        "\n",
        "# Download and install Java\n",
        "!sudo apt-get install openjdk-8-jdk-headless -qq > /dev/null\n",
        "\n",
        "# Install Apache Spark 3.0.3 with Hadoop 3.2\n",
        "!wget -nc -q https://downloads.apache.org/spark/spark-3.0.3/spark-3.0.3-bin-hadoop3.2.tgz\n",
        "\n",
        "# Unzip the folder\n",
        "!tar xf  spark-3.0.3-bin-hadoop3.2.tgz\n",
        "\n",
        "# Install findspark library that will locate Spark on the system\n",
        "!pip install -q findspark"
      ],
      "metadata": {
        "colab": {
          "base_uri": "https://localhost:8080/"
        },
        "id": "26PzSz5K2Zwg",
        "outputId": "816cc89f-f76a-454a-b252-c22f55589769"
      },
      "execution_count": null,
      "outputs": [
        {
          "output_type": "stream",
          "name": "stdout",
          "text": [
            "\u001b[33m\r0% [Working]\u001b[0m\r            \rGet:1 https://cloud.r-project.org/bin/linux/ubuntu bionic-cran40/ InRelease [3,626 B]\n",
            "\u001b[33m\r0% [Waiting for headers] [Waiting for headers] [1 InRelease 0 B/3,626 B 0%] [Wa\u001b[0m\u001b[33m\r0% [Waiting for headers] [Waiting for headers] [Waiting for headers] [Waiting f\u001b[0m\u001b[33m\r0% [1 InRelease gpgv 3,626 B] [Waiting for headers] [Waiting for headers] [Wait\u001b[0m\r                                                                               \rIgn:2 https://developer.download.nvidia.com/compute/cuda/repos/ubuntu1804/x86_64  InRelease\n",
            "\u001b[33m\r0% [1 InRelease gpgv 3,626 B] [Waiting for headers] [Waiting for headers] [Wait\u001b[0m\r                                                                               \rGet:3 http://security.ubuntu.com/ubuntu bionic-security InRelease [88.7 kB]\n",
            "Hit:4 http://ppa.launchpad.net/c2d4u.team/c2d4u4.0+/ubuntu bionic InRelease\n",
            "Hit:5 http://archive.ubuntu.com/ubuntu bionic InRelease\n",
            "Ign:6 https://developer.download.nvidia.com/compute/machine-learning/repos/ubuntu1804/x86_64  InRelease\n",
            "Hit:7 https://developer.download.nvidia.com/compute/cuda/repos/ubuntu1804/x86_64  Release\n",
            "Hit:8 https://developer.download.nvidia.com/compute/machine-learning/repos/ubuntu1804/x86_64  Release\n",
            "Get:9 http://archive.ubuntu.com/ubuntu bionic-updates InRelease [88.7 kB]\n",
            "Hit:10 http://ppa.launchpad.net/cran/libgit2/ubuntu bionic InRelease\n",
            "Hit:11 http://ppa.launchpad.net/deadsnakes/ppa/ubuntu bionic InRelease\n",
            "Get:12 http://archive.ubuntu.com/ubuntu bionic-backports InRelease [74.6 kB]\n",
            "Hit:13 http://ppa.launchpad.net/graphics-drivers/ppa/ubuntu bionic InRelease\n",
            "Get:16 http://security.ubuntu.com/ubuntu bionic-security/restricted amd64 Packages [909 kB]\n",
            "Get:17 http://archive.ubuntu.com/ubuntu bionic-updates/main amd64 Packages [3,167 kB]\n",
            "Get:18 http://security.ubuntu.com/ubuntu bionic-security/universe amd64 Packages [1,496 kB]\n",
            "Get:19 http://security.ubuntu.com/ubuntu bionic-security/main amd64 Packages [2,732 kB]\n",
            "Get:20 http://archive.ubuntu.com/ubuntu bionic-updates/restricted amd64 Packages [942 kB]\n",
            "Get:21 http://archive.ubuntu.com/ubuntu bionic-updates/universe amd64 Packages [2,272 kB]\n",
            "Fetched 11.8 MB in 5s (2,287 kB/s)\n",
            "Reading package lists... Done\n",
            "Building dependency tree       \n",
            "Reading state information... Done\n",
            "48 packages can be upgraded. Run 'apt list --upgradable' to see them.\n",
            "debconf: unable to initialize frontend: Dialog\n",
            "debconf: (No usable dialog-like program is installed, so the dialog based frontend cannot be used. at /usr/share/perl5/Debconf/FrontEnd/Dialog.pm line 76, <> line 2.)\n",
            "debconf: falling back to frontend: Readline\n",
            "debconf: unable to initialize frontend: Readline\n",
            "debconf: (This frontend requires a controlling tty.)\n",
            "debconf: falling back to frontend: Teletype\n",
            "dpkg-preconfigure: unable to re-open stdin: \n"
          ]
        }
      ]
    },
    {
      "cell_type": "code",
      "source": [
        "# Setting the environment variables, to enable running PySpark in Colab environment \n",
        "import os\n",
        "import shutil\n",
        "from itertools import islice\n",
        "import requests\n",
        "\n",
        "os.environ[\"JAVA_HOME\"] = \"/usr/lib/jvm/java-8-openjdk-amd64\"\n",
        "os.environ[\"SPARK_HOME\"] = \"/content/spark-3.0.3-bin-hadoop3.2\""
      ],
      "metadata": {
        "id": "8lhIBfNfDl7T"
      },
      "execution_count": null,
      "outputs": []
    },
    {
      "cell_type": "code",
      "source": [
        "# Locate Spark in the system\n",
        "\n",
        "import findspark\n",
        "findspark.init()"
      ],
      "metadata": {
        "id": "nytJJRZr2olL"
      },
      "execution_count": null,
      "outputs": []
    },
    {
      "cell_type": "code",
      "source": [
        "from pyspark.sql import SparkSession\n",
        "from pyspark.sql.functions import *\n",
        "#from pyspark.sql import functions as F\n",
        "from pyspark.sql.types import *\n",
        "\n",
        "# Create spark_session\n",
        "spark = SparkSession.builder.getOrCreate()\n",
        "sc = spark.sparkContext\n",
        "\n",
        "spark.version\n"
      ],
      "metadata": {
        "colab": {
          "base_uri": "https://localhost:8080/",
          "height": 35
        },
        "id": "yoYEBXlsoFiA",
        "outputId": "7e86df18-8968-450a-f655-76ff68d53c4e"
      },
      "execution_count": null,
      "outputs": [
        {
          "output_type": "execute_result",
          "data": {
            "text/plain": [
              "'3.0.3'"
            ],
            "application/vnd.google.colaboratory.intrinsic+json": {
              "type": "string"
            }
          },
          "metadata": {},
          "execution_count": 8
        }
      ]
    },
    {
      "cell_type": "code",
      "source": [
        "# pip uninstall pyspark"
      ],
      "metadata": {
        "colab": {
          "base_uri": "https://localhost:8080/"
        },
        "id": "UVoi4JxirlDr",
        "outputId": "824b647e-4c97-4728-e978-55b3c09981b3"
      },
      "execution_count": null,
      "outputs": [
        {
          "output_type": "stream",
          "name": "stdout",
          "text": [
            "Found existing installation: pyspark 3.2.1\n",
            "Uninstalling pyspark-3.2.1:\n",
            "  Would remove:\n",
            "    /usr/local/bin/beeline\n",
            "    /usr/local/bin/beeline.cmd\n",
            "    /usr/local/bin/docker-image-tool.sh\n",
            "    /usr/local/bin/find-spark-home\n",
            "    /usr/local/bin/find-spark-home.cmd\n",
            "    /usr/local/bin/find_spark_home.py\n",
            "    /usr/local/bin/load-spark-env.cmd\n",
            "    /usr/local/bin/load-spark-env.sh\n",
            "    /usr/local/bin/pyspark\n",
            "    /usr/local/bin/pyspark.cmd\n",
            "    /usr/local/bin/pyspark2.cmd\n",
            "    /usr/local/bin/run-example\n",
            "    /usr/local/bin/run-example.cmd\n",
            "    /usr/local/bin/spark-class\n",
            "    /usr/local/bin/spark-class.cmd\n",
            "    /usr/local/bin/spark-class2.cmd\n",
            "    /usr/local/bin/spark-shell\n",
            "    /usr/local/bin/spark-shell.cmd\n",
            "    /usr/local/bin/spark-shell2.cmd\n",
            "    /usr/local/bin/spark-sql\n",
            "    /usr/local/bin/spark-sql.cmd\n",
            "    /usr/local/bin/spark-sql2.cmd\n",
            "    /usr/local/bin/spark-submit\n",
            "    /usr/local/bin/spark-submit.cmd\n",
            "    /usr/local/bin/spark-submit2.cmd\n",
            "    /usr/local/bin/sparkR\n",
            "    /usr/local/bin/sparkR.cmd\n",
            "    /usr/local/bin/sparkR2.cmd\n",
            "    /usr/local/lib/python3.7/dist-packages/pyspark-3.2.1.dist-info/*\n",
            "    /usr/local/lib/python3.7/dist-packages/pyspark/*\n",
            "Proceed (y/n)? y\n",
            "  Successfully uninstalled pyspark-3.2.1\n"
          ]
        }
      ]
    },
    {
      "cell_type": "code",
      "source": [
        "# !pip install pyspark\n"
      ],
      "metadata": {
        "colab": {
          "base_uri": "https://localhost:8080/",
          "height": 194
        },
        "id": "K5zBbLy-oiXi",
        "outputId": "ed16a953-c039-47af-e9c7-c91d6e97046b"
      },
      "execution_count": null,
      "outputs": [
        {
          "output_type": "stream",
          "name": "stdout",
          "text": [
            "Collecting pyspark\n",
            "  Using cached pyspark-3.2.1-py2.py3-none-any.whl\n",
            "Requirement already satisfied: py4j==0.10.9.3 in /usr/local/lib/python3.7/dist-packages (from pyspark) (0.10.9.3)\n",
            "Installing collected packages: pyspark\n",
            "Successfully installed pyspark-3.2.1\n"
          ]
        },
        {
          "output_type": "display_data",
          "data": {
            "application/vnd.colab-display-data+json": {
              "pip_warning": {
                "packages": [
                  "pyspark"
                ]
              }
            }
          },
          "metadata": {}
        }
      ]
    },
    {
      "cell_type": "markdown",
      "source": [
        "Copy the file into your own directory in Google Drive\n",
        "https://towardsdatascience.com/how-to-successfully-add-large-data-sets-to-google-drive-130beb320f1a\n",
        "\n"
      ],
      "metadata": {
        "id": "VeqD0PsyDAFJ"
      }
    },
    {
      "cell_type": "markdown",
      "source": [
        "Method 1 :"
      ],
      "metadata": {
        "id": "43Po5ZTvEtkv"
      }
    },
    {
      "cell_type": "code",
      "source": [
        "from google.colab import drive\n",
        "drive.mount('/content/gdrive')"
      ],
      "metadata": {
        "colab": {
          "base_uri": "https://localhost:8080/"
        },
        "id": "XooBFgUyBeR5",
        "outputId": "f5ecfa1d-4300-4371-d09a-ee9772b55984"
      },
      "execution_count": null,
      "outputs": [
        {
          "output_type": "stream",
          "name": "stdout",
          "text": [
            "Mounted at /content/gdrive\n"
          ]
        }
      ]
    },
    {
      "cell_type": "code",
      "source": [
        "!unzip gdrive/My\\ Drive/Municipal_Court_Caseload_Information.zip  "
      ],
      "metadata": {
        "colab": {
          "base_uri": "https://localhost:8080/"
        },
        "id": "a1ktjqqPBs4x",
        "outputId": "32602698-6117-407a-8c29-93cf29fab65a"
      },
      "execution_count": null,
      "outputs": [
        {
          "output_type": "stream",
          "name": "stdout",
          "text": [
            "Archive:  gdrive/My Drive/Municipal_Court_Caseload_Information.zip\n",
            "  inflating: Municipal_Court_Caseload_Information.csv  \n"
          ]
        }
      ]
    },
    {
      "cell_type": "markdown",
      "source": [
        "Method 2:"
      ],
      "metadata": {
        "id": "LdhfJ9o1ExYO"
      }
    },
    {
      "cell_type": "code",
      "source": [
        "# Load the Drive helper and mount\n",
        "from google.colab import drive\n",
        "\n",
        "# This will prompt for authorization.\n",
        "drive.mount('/content/drive')"
      ],
      "metadata": {
        "colab": {
          "base_uri": "https://localhost:8080/"
        },
        "id": "jHKTRafhBkrB",
        "outputId": "01645794-2f7d-4b78-c6ac-73f0d1af27b7"
      },
      "execution_count": 31,
      "outputs": [
        {
          "output_type": "stream",
          "name": "stdout",
          "text": [
            "Mounted at /content/drive\n"
          ]
        }
      ]
    },
    {
      "cell_type": "code",
      "source": [
        "def delete_folder(dir_name):\n",
        "    try:\n",
        "        shutil.rmtree(dir_name)\n",
        "    except OSError as e:\n",
        "        print(\"Error: %s : %s\" % (dir_name, e.strerror))"
      ],
      "metadata": {
        "id": "VUKYXSaDA7O9"
      },
      "execution_count": 29,
      "outputs": []
    },
    {
      "cell_type": "code",
      "source": [
        "def get_gcs_data (bucket_name, folder_name, file_name, path_gdrive):\n",
        "    url = 'https://storage.googleapis.com/' + bucket_name + '/' + folder_name + '/' + file_name\n",
        "    r = requests.get(url)\n",
        "    open(path_gdrive + '/' + file_name , 'wb').write(r.content)"
      ],
      "metadata": {
        "id": "i43nSptmDvOH"
      },
      "execution_count": 37,
      "outputs": []
    },
    {
      "cell_type": "code",
      "source": [
        "# Check the content of BDP folder in GDrive\n",
        "!ls \"/content/drive/My Drive/Colab Datasets/BDP/court/austin\""
      ],
      "metadata": {
        "colab": {
          "base_uri": "https://localhost:8080/"
        },
        "id": "b31x9t0XBbqe",
        "outputId": "77f7c079-f52a-4b84-f2e6-44cd25f2af4c"
      },
      "execution_count": 44,
      "outputs": [
        {
          "output_type": "stream",
          "name": "stdout",
          "text": [
            "Municipal_Court_Caseload_Information.zip\n"
          ]
        }
      ]
    },
    {
      "cell_type": "code",
      "source": [
        "bucket_name = 'msca-bdp-data-open'\n",
        "folder_name = 'austin'\n",
        "file_name = ['Municipal_Court_Caseload_Information.zip']\n",
        "path_gdrive = '/content/drive/My Drive/Colab Datasets/BDP/court/austin'\n",
        "\n",
        "os.makedirs(path_gdrive, exist_ok=True)\n",
        "\n",
        "for file in file_name:\n",
        "    get_gcs_data (bucket_name = bucket_name,\n",
        "                 folder_name = folder_name,\n",
        "                 file_name = file,\n",
        "                 path_gdrive = path_gdrive)\n",
        "    print('Downloaded: ' + file)"
      ],
      "metadata": {
        "colab": {
          "base_uri": "https://localhost:8080/"
        },
        "id": "2yR1-x-rBGk_",
        "outputId": "3d3fab0b-0df6-4b82-bac8-92fb82739bb6"
      },
      "execution_count": 45,
      "outputs": [
        {
          "output_type": "stream",
          "name": "stdout",
          "text": [
            "Downloaded: Municipal_Court_Caseload_Information.zip\n"
          ]
        }
      ]
    },
    {
      "cell_type": "markdown",
      "source": [
        "Unzip the file (using Linux commands)\n"
      ],
      "metadata": {
        "id": "koobvZphDBRt"
      }
    },
    {
      "cell_type": "code",
      "source": [
        "filename = '/content/drive/My Drive/Colab Datasets/BDP/court/austin/Municipal_Court_Caseload_Information.zip'\n",
        "extract_dir = '/content/drive/My Drive/Colab Datasets/BDP/court/austin'\n",
        "archive_format = 'zip'\n",
        "\n",
        "shutil.unpack_archive(filename,extract_dir, archive_format)"
      ],
      "metadata": {
        "id": "msG3YBDz_9wR"
      },
      "execution_count": 46,
      "outputs": []
    },
    {
      "cell_type": "code",
      "source": [
        "!unzip drive/My\\ Drive/Municipal_Court_Caseload_Information.zip  "
      ],
      "metadata": {
        "colab": {
          "base_uri": "https://localhost:8080/"
        },
        "id": "cVNFydm_H2YZ",
        "outputId": "99e70e71-bc6c-494e-ac3d-6f8b3ef12def"
      },
      "execution_count": 58,
      "outputs": [
        {
          "output_type": "stream",
          "name": "stdout",
          "text": [
            "Archive:  drive/My Drive/Municipal_Court_Caseload_Information.zip\n",
            "replace Municipal_Court_Caseload_Information.csv? [y]es, [n]o, [A]ll, [N]one, [r]ename: y\n",
            "  inflating: Municipal_Court_Caseload_Information.csv  \n"
          ]
        }
      ]
    },
    {
      "cell_type": "code",
      "source": [
        "\n",
        "readme_raw = sc.textFile(\"/content/drive/My Drive/Colab Datasets/BDP/court/austin/Municipal_Court_Caseload_Information.csv\")\n",
        "readme_raw.count()"
      ],
      "metadata": {
        "colab": {
          "base_uri": "https://localhost:8080/"
        },
        "id": "wWLL5l3PGQsA",
        "outputId": "933f382b-ffea-4b77-fc92-1c1d3131780a"
      },
      "execution_count": 49,
      "outputs": [
        {
          "output_type": "execute_result",
          "data": {
            "text/plain": [
              "8485777"
            ]
          },
          "metadata": {},
          "execution_count": 49
        }
      ]
    },
    {
      "cell_type": "code",
      "source": [
        "# Check the content of BDP folder in GDrive\n",
        "!ls \"/content/drive/My Drive/Colab Datasets/BDP/court/austin\""
      ],
      "metadata": {
        "colab": {
          "base_uri": "https://localhost:8080/"
        },
        "id": "b7X0WWZ_FW-f",
        "outputId": "ee6305b1-d3bb-4c83-a8f6-d14a195621a5"
      },
      "execution_count": 50,
      "outputs": [
        {
          "output_type": "stream",
          "name": "stdout",
          "text": [
            "Municipal_Court_Caseload_Information.csv\n",
            "Municipal_Court_Caseload_Information.zip\n"
          ]
        }
      ]
    },
    {
      "cell_type": "code",
      "source": [
        ""
      ],
      "metadata": {
        "id": "sW1RLEk1FdyN"
      },
      "execution_count": null,
      "outputs": []
    },
    {
      "cell_type": "code",
      "source": [
        "! pwd"
      ],
      "metadata": {
        "colab": {
          "base_uri": "https://localhost:8080/"
        },
        "id": "wszyeRV8ko8o",
        "outputId": "91099fe2-bb65-49d5-9e91-ddf928c4f257"
      },
      "execution_count": 47,
      "outputs": [
        {
          "output_type": "stream",
          "name": "stdout",
          "text": [
            "/content\n"
          ]
        }
      ]
    },
    {
      "cell_type": "markdown",
      "source": [
        "Read the data into Spark RDD\n"
      ],
      "metadata": {
        "id": "GA6MfwHLDBYu"
      }
    },
    {
      "cell_type": "code",
      "source": [
        "# Check the content of BDP folder in GDrive\n",
        "!ls \"/content\""
      ],
      "metadata": {
        "colab": {
          "base_uri": "https://localhost:8080/"
        },
        "id": "J7PM_AjdLZ4I",
        "outputId": "b9c35841-2b0f-4efa-f623-4db2c8c33b33"
      },
      "execution_count": null,
      "outputs": [
        {
          "output_type": "stream",
          "name": "stdout",
          "text": [
            "gdrive\t\t\t\t\t  spark-3.0.3-bin-hadoop3.2\n",
            "Municipal_Court_Caseload_Information.csv  spark-3.0.3-bin-hadoop3.2.tgz\n",
            "sample_data\n"
          ]
        }
      ]
    },
    {
      "cell_type": "code",
      "source": [
        "%%time\n",
        "\n",
        "!ls -l \"/content/Municipal_Court_Caseload_Information.csv\""
      ],
      "metadata": {
        "colab": {
          "base_uri": "https://localhost:8080/"
        },
        "id": "Br8UqElaLptq",
        "outputId": "3d7f74a1-9838-4dd7-cad2-c1507c65af52"
      },
      "execution_count": null,
      "outputs": [
        {
          "output_type": "stream",
          "name": "stdout",
          "text": [
            "-rw-r--r-- 1 root root 877080187 Apr 16  2015 /content/Municipal_Court_Caseload_Information.csv\n",
            "CPU times: user 6.58 ms, sys: 4.26 ms, total: 10.8 ms\n",
            "Wall time: 117 ms\n"
          ]
        }
      ]
    },
    {
      "cell_type": "code",
      "source": [
        ""
      ],
      "metadata": {
        "id": "bEl6UrhPtERf"
      },
      "execution_count": null,
      "outputs": []
    },
    {
      "cell_type": "code",
      "source": [
        "%%time\n",
        "readme = sc.textFile(\"/content/Municipal_Court_Caseload_Information.csv\")\n",
        "readme.count()"
      ],
      "metadata": {
        "colab": {
          "base_uri": "https://localhost:8080/"
        },
        "id": "Of2dKPUkmee-",
        "outputId": "7598a1c6-69c5-4da8-fbcc-e6b33f305bd3"
      },
      "execution_count": 54,
      "outputs": [
        {
          "output_type": "stream",
          "name": "stdout",
          "text": [
            "CPU times: user 56.8 ms, sys: 2.22 ms, total: 59 ms\n",
            "Wall time: 14.3 s\n"
          ]
        }
      ]
    },
    {
      "cell_type": "markdown",
      "source": [
        "Ensure your process the header record correctly\n"
      ],
      "metadata": {
        "id": "OI_XStnNDBv6"
      }
    },
    {
      "cell_type": "code",
      "source": [
        "readme.take(1)"
      ],
      "metadata": {
        "colab": {
          "base_uri": "https://localhost:8080/"
        },
        "id": "l4aRtf2lI0x6",
        "outputId": "709e0daf-5e1d-4111-9e36-be6c8e106a2c"
      },
      "execution_count": 59,
      "outputs": [
        {
          "output_type": "execute_result",
          "data": {
            "text/plain": [
              "['Offense Case Type,Offense Date,Offense Time,Offense Charge Description,Offense Street Name,Offense Cross Street Check , Offense Cross Street,School Zone,Construction Zone,Case Closed']"
            ]
          },
          "metadata": {},
          "execution_count": 59
        }
      ]
    },
    {
      "cell_type": "code",
      "source": [
        "readme.take(10)"
      ],
      "metadata": {
        "id": "fcMxsCskL3md",
        "colab": {
          "base_uri": "https://localhost:8080/"
        },
        "outputId": "85767089-3051-4cd7-afc6-c3462e73fe11"
      },
      "execution_count": 55,
      "outputs": [
        {
          "output_type": "execute_result",
          "data": {
            "text/plain": [
              "['Offense Case Type,Offense Date,Offense Time,Offense Charge Description,Offense Street Name,Offense Cross Street Check , Offense Cross Street,School Zone,Construction Zone,Case Closed',\n",
              " 'TR,04/29/2010 07:00:00 AM +0000,22.40.00,FAILED TO MAINTAIN FINANCIAL RESPONSIBILITY,8000 BLOCK RESEARCH,N, ,N,N,Y',\n",
              " 'TR,04/29/2010 07:00:00 AM +0000,22.40.00,FAILURE TO SIGNAL INTENT TO CHANGE LANES,8000 BLOCK RESEARCH,N, ,N,N,Y',\n",
              " 'TR,04/29/2010 07:00:00 AM +0000,20.00.00,SPEEDING-STATE HIGHWAYS,1000 BLOCK NORTH U S 183,N, ,N,N,Y',\n",
              " 'TR,04/29/2010 07:00:00 AM +0000,20.00.00,NO SEAT BELT-DRIVER/PASSENGER,1000 BLOCK NORTH U S 183,N, ,N,N,Y',\n",
              " 'TR,04/29/2010 07:00:00 AM +0000,23.45.00,SPEEDING - STATE HIGHWAYS - Less than 10% over limit,1000 BLOCK RESEARCH,N, ,N,N,Y',\n",
              " 'PK,05/05/2010 07:00:00 AM +0000,15.28.00,PAY STATION RECEIPT NOT DISPLAYED,700 10TH ST W,N, ,N,N,Y',\n",
              " 'PK,05/05/2010 07:00:00 AM +0000,15.23.00,EXPIRED PAY STATION RECEIPT,800 RIO GRANDE ST,N, ,N,N,Y',\n",
              " 'PK,05/05/2010 07:00:00 AM +0000,15.22.00,EXPIRED PAY STATION RECEIPT,800 RIO GRANDE ST,N, ,N,N,Y',\n",
              " 'PK,05/05/2010 07:00:00 AM +0000,15.18.00,EXPIRED PAY STATION RECEIPT,900 RIO GRANDE ST,N, ,N,N,Y']"
            ]
          },
          "metadata": {},
          "execution_count": 55
        }
      ]
    },
    {
      "cell_type": "markdown",
      "source": [
        "Calculate frequency of offenses by Offense Case Type\n",
        "\n",
        "\n"
      ],
      "metadata": {
        "id": "A4Khsze6DQDi"
      }
    },
    {
      "cell_type": "code",
      "source": [
        "casetype = readme.map(lambda s: s.split(\",\")[0]) \n",
        "casetype.first()\n",
        "# airlines_dest = airlines_raw.map(lambda s: s.split(\",\")[17]) "
      ],
      "metadata": {
        "colab": {
          "base_uri": "https://localhost:8080/"
        },
        "id": "1klnFekIXv6h",
        "outputId": "4447f3a9-6610-4814-fbf7-9ae39028d3e4"
      },
      "execution_count": null,
      "outputs": [
        {
          "output_type": "execute_result",
          "data": {
            "text/plain": [
              "PythonRDD[43] at RDD at PythonRDD.scala:53"
            ]
          },
          "metadata": {},
          "execution_count": 33
        }
      ]
    },
    {
      "cell_type": "code",
      "source": [
        "a_orig = casetype.map(lambda x: (x, 1)).reduceByKey(lambda x,y:x+y).sortByKey(False)\n",
        "a_orig.take(10)"
      ],
      "metadata": {
        "id": "WmZfWbGUH0XJ",
        "colab": {
          "base_uri": "https://localhost:8080/"
        },
        "outputId": "da4be8b5-0b57-4527-f7b9-4702afab7933"
      },
      "execution_count": null,
      "outputs": [
        {
          "output_type": "execute_result",
          "data": {
            "text/plain": [
              "[('TR', 4313221),\n",
              " ('PK', 3388981),\n",
              " ('Offense Case Type', 1),\n",
              " ('CM', 319078),\n",
              " ('CO', 240308),\n",
              " ('RL', 224188)]"
            ]
          },
          "metadata": {},
          "execution_count": 34
        }
      ]
    },
    {
      "cell_type": "markdown",
      "source": [
        "Identify the most frequent offenses by Offense Charge Description (Show Offense Charge Description and offense frequency count in descending order)\n"
      ],
      "metadata": {
        "id": "Gsaadl8iTgjv"
      }
    },
    {
      "cell_type": "code",
      "source": [
        "x1 = readme.map(lambda x: (x,1))\n",
        "x1.take(10)"
      ],
      "metadata": {
        "colab": {
          "base_uri": "https://localhost:8080/"
        },
        "id": "WJQC6cY1iP1t",
        "outputId": "73502e7b-f186-4716-cabe-76e4b9a43565"
      },
      "execution_count": null,
      "outputs": [
        {
          "output_type": "execute_result",
          "data": {
            "text/plain": [
              "[('TR,04/29/2010 07:00:00 AM +0000,22.40.00,FAILED TO MAINTAIN FINANCIAL RESPONSIBILITY,8000 BLOCK RESEARCH,N, ,N,N,Y',\n",
              "  1),\n",
              " ('TR,04/29/2010 07:00:00 AM +0000,22.40.00,FAILURE TO SIGNAL INTENT TO CHANGE LANES,8000 BLOCK RESEARCH,N, ,N,N,Y',\n",
              "  1),\n",
              " ('TR,04/29/2010 07:00:00 AM +0000,20.00.00,SPEEDING-STATE HIGHWAYS,1000 BLOCK NORTH U S 183,N, ,N,N,Y',\n",
              "  1),\n",
              " ('TR,04/29/2010 07:00:00 AM +0000,20.00.00,NO SEAT BELT-DRIVER/PASSENGER,1000 BLOCK NORTH U S 183,N, ,N,N,Y',\n",
              "  1),\n",
              " ('TR,04/29/2010 07:00:00 AM +0000,23.45.00,SPEEDING - STATE HIGHWAYS - Less than 10% over limit,1000 BLOCK RESEARCH,N, ,N,N,Y',\n",
              "  1),\n",
              " ('PK,05/05/2010 07:00:00 AM +0000,15.28.00,PAY STATION RECEIPT NOT DISPLAYED,700 10TH ST W,N, ,N,N,Y',\n",
              "  1),\n",
              " ('PK,05/05/2010 07:00:00 AM +0000,15.23.00,EXPIRED PAY STATION RECEIPT,800 RIO GRANDE ST,N, ,N,N,Y',\n",
              "  1),\n",
              " ('PK,05/05/2010 07:00:00 AM +0000,15.22.00,EXPIRED PAY STATION RECEIPT,800 RIO GRANDE ST,N, ,N,N,Y',\n",
              "  1),\n",
              " ('PK,05/05/2010 07:00:00 AM +0000,15.18.00,EXPIRED PAY STATION RECEIPT,900 RIO GRANDE ST,N, ,N,N,Y',\n",
              "  1),\n",
              " ('PK,05/05/2010 07:00:00 AM +0000,14.58.00,PAY STATION RECEIPT NOT DISPLAYED,900 SAN ANT. ST,N, ,N,N,Y',\n",
              "  1)]"
            ]
          },
          "metadata": {},
          "execution_count": 11
        }
      ]
    },
    {
      "cell_type": "code",
      "source": [
        "charge = readme.map(lambda s: s.split(\",\")[3]) \n",
        "charge.take(10)\n"
      ],
      "metadata": {
        "id": "6Fn98emvH0d6",
        "colab": {
          "base_uri": "https://localhost:8080/"
        },
        "outputId": "b83c61a6-4336-4858-df2f-0bf64be745b5"
      },
      "execution_count": 60,
      "outputs": [
        {
          "output_type": "execute_result",
          "data": {
            "text/plain": [
              "['Offense Charge Description',\n",
              " 'FAILED TO MAINTAIN FINANCIAL RESPONSIBILITY',\n",
              " 'FAILURE TO SIGNAL INTENT TO CHANGE LANES',\n",
              " 'SPEEDING-STATE HIGHWAYS',\n",
              " 'NO SEAT BELT-DRIVER/PASSENGER',\n",
              " 'SPEEDING - STATE HIGHWAYS - Less than 10% over limit',\n",
              " 'PAY STATION RECEIPT NOT DISPLAYED',\n",
              " 'EXPIRED PAY STATION RECEIPT',\n",
              " 'EXPIRED PAY STATION RECEIPT',\n",
              " 'EXPIRED PAY STATION RECEIPT']"
            ]
          },
          "metadata": {},
          "execution_count": 60
        }
      ]
    },
    {
      "cell_type": "code",
      "source": [
        "a1 = charge.map(lambda x: (x, 1))\n",
        "a1.take(10)"
      ],
      "metadata": {
        "colab": {
          "base_uri": "https://localhost:8080/"
        },
        "id": "LXEvvTApizP0",
        "outputId": "bcea660c-6026-4287-e03e-0864714a476c"
      },
      "execution_count": 61,
      "outputs": [
        {
          "output_type": "execute_result",
          "data": {
            "text/plain": [
              "[('Offense Charge Description', 1),\n",
              " ('FAILED TO MAINTAIN FINANCIAL RESPONSIBILITY', 1),\n",
              " ('FAILURE TO SIGNAL INTENT TO CHANGE LANES', 1),\n",
              " ('SPEEDING-STATE HIGHWAYS', 1),\n",
              " ('NO SEAT BELT-DRIVER/PASSENGER', 1),\n",
              " ('SPEEDING - STATE HIGHWAYS - Less than 10% over limit', 1),\n",
              " ('PAY STATION RECEIPT NOT DISPLAYED', 1),\n",
              " ('EXPIRED PAY STATION RECEIPT', 1),\n",
              " ('EXPIRED PAY STATION RECEIPT', 1),\n",
              " ('EXPIRED PAY STATION RECEIPT', 1)]"
            ]
          },
          "metadata": {},
          "execution_count": 61
        }
      ]
    },
    {
      "cell_type": "code",
      "source": [
        "a2 = a1.reduceByKey(lambda x,y:x+y)\n",
        "a2.take(10)"
      ],
      "metadata": {
        "colab": {
          "base_uri": "https://localhost:8080/"
        },
        "id": "iqlFnWADjEEp",
        "outputId": "3ed72c5a-371c-464e-bb62-d45c45ba2780"
      },
      "execution_count": 62,
      "outputs": [
        {
          "output_type": "execute_result",
          "data": {
            "text/plain": [
              "[('BICYCLE - RAN RED LIGHT', 2397),\n",
              " ('RAN RED LIGHT', 157783),\n",
              " ('CMV - UNSAFE CONDITION-396 3 A 1', 509),\n",
              " ('PARKING - SIDEWALK AREA', 9918),\n",
              " ('CAMPING IN A PUBLIC AREA', 12144),\n",
              " ('SEATBELT - PASSENGER', 3042),\n",
              " ('ALCOHOL - SELLING/POSSESSING IN PROHIBITED AREA', 3266),\n",
              " ('PARKING - DOUBLE PARKED', 2820),\n",
              " ('MOTOR VEHICLE INSPECTION VIOLATION', 43),\n",
              " ('CROSSING PROPERTY TO TURN RIGHT OR LEFT', 6866)]"
            ]
          },
          "metadata": {},
          "execution_count": 62
        }
      ]
    },
    {
      "cell_type": "code",
      "source": [
        "a3 = a2.map(lambda x:(x[1],x[0]))\n",
        "a3.take(10)"
      ],
      "metadata": {
        "colab": {
          "base_uri": "https://localhost:8080/"
        },
        "id": "kvnp_P3w6SeU",
        "outputId": "2f131dd4-482d-4354-8db3-05cd39420264"
      },
      "execution_count": 63,
      "outputs": [
        {
          "output_type": "execute_result",
          "data": {
            "text/plain": [
              "[(2397, 'BICYCLE - RAN RED LIGHT'),\n",
              " (157783, 'RAN RED LIGHT'),\n",
              " (509, 'CMV - UNSAFE CONDITION-396 3 A 1'),\n",
              " (9918, 'PARKING - SIDEWALK AREA'),\n",
              " (12144, 'CAMPING IN A PUBLIC AREA'),\n",
              " (3042, 'SEATBELT - PASSENGER'),\n",
              " (3266, 'ALCOHOL - SELLING/POSSESSING IN PROHIBITED AREA'),\n",
              " (2820, 'PARKING - DOUBLE PARKED'),\n",
              " (43, 'MOTOR VEHICLE INSPECTION VIOLATION'),\n",
              " (6866, 'CROSSING PROPERTY TO TURN RIGHT OR LEFT')]"
            ]
          },
          "metadata": {},
          "execution_count": 63
        }
      ]
    },
    {
      "cell_type": "code",
      "source": [
        "a4 = a3.sortByKey(ascending=False)\n",
        "a4.take(10)"
      ],
      "metadata": {
        "colab": {
          "base_uri": "https://localhost:8080/"
        },
        "id": "TMqZLqal6Xk3",
        "outputId": "97ad1691-ab29-4e19-a5ba-dd15ec472eab"
      },
      "execution_count": 64,
      "outputs": [
        {
          "output_type": "execute_result",
          "data": {
            "text/plain": [
              "[(892013, 'PAY STATION RECEIPT NOT DISPLAYED'),\n",
              " (732605, 'EXPIRED PAY STATION RECEIPT'),\n",
              " (486576, 'SPEEDING-STATE HIGHWAYS'),\n",
              " (372339, 'NO DRIVERS LICENSE'),\n",
              " (345162, 'SPEEDING - POSTED CITY STREET'),\n",
              " (337672, 'FAILED TO MAINTAIN FINANCIAL RESPONSIBILITY'),\n",
              " (310816, 'PARKING - EXPIRED METER'),\n",
              " (287570, 'SPEEDING - STATE HIGHWAY'),\n",
              " (260662, 'FAIL TO MAINTAIN FINANCIAL RESP'),\n",
              " (238168, 'TOW AWAY ZONE NO PARKING AREA')]"
            ]
          },
          "metadata": {},
          "execution_count": 64
        }
      ]
    }
  ]
}